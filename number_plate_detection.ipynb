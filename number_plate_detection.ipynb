{
  "nbformat": 4,
  "nbformat_minor": 0,
  "metadata": {
    "colab": {
      "name": "number plate detection.ipynb",
      "provenance": []
    },
    "kernelspec": {
      "name": "python3",
      "display_name": "Python 3"
    }
  },
  "cells": [
    {
      "cell_type": "code",
      "metadata": {
        "id": "whKETsFb_VhR",
        "colab_type": "code",
        "colab": {}
      },
      "source": [
        "import cv2\n",
        " \n",
        "#############################################\n",
        "frameWidth = 640\n",
        "frameHeight = 480\n",
        "nPlateCascade = cv2.CascadeClassifier(\"Resources/haarcascade_russian_plate_number.xml\")\n",
        "minArea = 200\n",
        "color = (255,0,255)\n",
        "###############################################\n",
        " \n",
        "cap = cv2.VideoCapture(\"Resources/video12.mp4\")\n",
        "cap.set(3, frameWidth)\n",
        "cap.set(4, frameHeight)\n",
        "cap.set(10,150)\n",
        "count = 0\n",
        " \n",
        "while True:\n",
        "    success, img = cap.read()\n",
        "    imgGray = cv2.cvtColor(img, cv2.COLOR_BGR2GRAY)\n",
        "    numberPlates = nPlateCascade.detectMultiScale(imgGray, 1.1, 10)\n",
        "    for (x, y, w, h) in numberPlates:\n",
        "        area = w*h\n",
        "        if area >minArea:\n",
        "            cv2.rectangle(img, (x, y), (x + w, y + h), (255, 0, 255), 2)\n",
        "            cv2.putText(img,\"Number Plate\",(x,y-5),\n",
        "                        cv2.FONT_HERSHEY_COMPLEX_SMALL,1,color,2)\n",
        "            imgRoi = img[y:y+h,x:x+w]\n",
        "            cv2.imshow(\"ROI\", imgRoi)\n",
        " \n",
        "    cv2.imshow(\"Result\", img)\n",
        "     if cv2.waitKey(1) and 0xFF == ord('s'):\n",
        "        cv2.imwrite(\"Resources/Scanned/NoPlate_\"+str(count)+\".jpg\",imgRoi)\n",
        "        cv2.rectangle(img,(0,200),(640,300),(0,255,0),cv2.FILLED)\n",
        "        cv2.putText(img,\"Scan Saved\",(150,265),cv2.FONT_HERSHEY_DUPLEX,\n",
        "                    2,(0,0,255),2)\n",
        "        cv2.imshow(\"Result\",img)\n",
        "        cv2.waitKey(500)\n",
        "        count +=1"
      ],
      "execution_count": null,
      "outputs": []
    }
  ]
}